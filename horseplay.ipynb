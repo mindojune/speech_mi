{
 "cells": [
  {
   "cell_type": "markdown",
   "metadata": {},
   "source": [
    "# Speech MI\n",
    "\n",
    "## TODOs\n",
    "- test out the hypothesis with first experiments\n",
    "\n",
    "### Experiment 1:\n",
    "\n",
    "### Experiment 2:\n",
    "\n",
    "\n",
    "\n",
    "## RQ & Hypothesis **\n",
    "- Which framework: Speech-based MI and Conversation Modeling that consumses client utterance in **speech form, not transcribed form**,\n",
    "- is different how: it's better for MI perfornace on tasks:\n",
    "    - counselor response prediction\n",
    "    - client understanding\n",
    "    - etc\n",
    "- from which previous baseline: text only\n",
    "- because of which aspect\n",
    "    - paralinguistic information and stuff\n",
    "    - but how show\n",
    "\n",
    "\n",
    "## Which Specific Tasks?\n",
    "\n",
    "Two tasks I came up with\n",
    "- Counselor Response Prediction (perplexity? text similarity?)\n",
    "- Counseling Quality Estimation\n",
    "- Prediction of Client Attitude and stuff\n",
    "    - Client talk type\n",
    "\n",
    "\n"
   ]
  },
  {
   "cell_type": "code",
   "execution_count": 13,
   "metadata": {},
   "outputs": [
    {
     "name": "stdout",
     "output_type": "stream",
     "text": [
      "Total Segments: 9450\n",
      "Total HQ Segments: 8590\n",
      "Total LQ Segments: 860\n",
      "Total Sessions: 129\n",
      "Total HQ Sessions: 106\n",
      "Total LQ Sessions: 23\n"
     ]
    }
   ],
   "source": [
    "# Compute Stats\n",
    "import json\n",
    "\n",
    "segfile = \"./data/segmental_information.json\"\n",
    "\n",
    "with open(segfile, \"r\") as fh:\n",
    "    seg = json.load(fh)\n",
    "\n",
    "\n",
    "sessions = {}\n",
    "for seg_id, seg_info in seg.items():\n",
    "    tid = seg_info[\"transcript_id\"]\n",
    "    if tid in sessions:\n",
    "        sessions[tid] += [seg_info]\n",
    "    else:\n",
    "        sessions[tid] = [ seg_info]\n",
    "\n",
    "# original from AnnoMI paper\n",
    "#               HQ         LQ\n",
    "#Conversations 110 (82.7%) 23 (17.3%)\n",
    "#Utterances 8839 (91.1%) 860 (8.9%) \n",
    "\n",
    "print(\"Total Segments:\", len(list(seg.values())))\n",
    "print(\"Total HQ Segments:\", len([v for v in seg.values() if v['mi_quality']==\"high\"]))\n",
    "print(\"Total LQ Segments:\", len([v for v in seg.values() if v['mi_quality']==\"low\"]))\n",
    "\n",
    "print(\"Total Sessions:\", len(list(sessions.keys())))\n",
    "print(\"Total HQ Sessions:\", len([k for k,v in sessions.items() if v[0][\"mi_quality\"]==\"high\"]))\n",
    "print(\"Total LQ Sessions:\", len([k for k,v in sessions.items() if v[0][\"mi_quality\"]==\"low\"]))\n",
    "\n",
    "\n",
    "\n",
    "\n"
   ]
  },
  {
   "cell_type": "code",
   "execution_count": null,
   "metadata": {},
   "outputs": [],
   "source": []
  },
  {
   "cell_type": "markdown",
   "metadata": {},
   "source": []
  },
  {
   "cell_type": "code",
   "execution_count": null,
   "metadata": {},
   "outputs": [],
   "source": []
  }
 ],
 "metadata": {
  "kernelspec": {
   "display_name": "speech",
   "language": "python",
   "name": "python3"
  },
  "language_info": {
   "codemirror_mode": {
    "name": "ipython",
    "version": 3
   },
   "file_extension": ".py",
   "mimetype": "text/x-python",
   "name": "python",
   "nbconvert_exporter": "python",
   "pygments_lexer": "ipython3",
   "version": "3.12.4"
  }
 },
 "nbformat": 4,
 "nbformat_minor": 2
}
